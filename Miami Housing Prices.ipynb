{
 "cells": [
  {
   "cell_type": "code",
   "execution_count": null,
   "id": "bae22c47-40ce-4e5c-a998-2c0f1fd3e5f9",
   "metadata": {},
   "outputs": [],
   "source": [
    "import pandas as pd\n",
    "from sklearn.metrics import mean_absolute_error #Using MAE incase of outliers\n",
    "import matplotlib.pyplot as plt\n",
    "\n",
    "\n",
    "from IPython.core.interactiveshell import InteractiveShell # Importing so we can run multiple lines in one cell\n",
    "InteractiveShell.ast_node_interactivity = \"all\" # Code so multiple lines in one cell can be ran simultaenously\n",
    "pd.set_option('display.max_columns', None)\n",
    "pd.set_option('display.max_rows', None)\n",
    "import warnings\n",
    "warnings.filterwarnings('ignore')"
   ]
  },
  {
   "cell_type": "code",
   "execution_count": null,
   "id": "7d23a263-e512-4e4f-967c-64b03b35ad31",
   "metadata": {},
   "outputs": [],
   "source": [
    "df = pd.read_csv('miami-housing.csv')"
   ]
  },
  {
   "cell_type": "markdown",
   "id": "cd68000b-09c8-408a-af7e-d1a34e688bec",
   "metadata": {},
   "source": [
    " **Data from: https://www.kaggle.com/datasets/deepcontractor/miami-housing-dataset**"
   ]
  },
  {
   "cell_type": "markdown",
   "id": "27bd048b",
   "metadata": {},
   "source": [
    "The dataset contains the following columns:\n",
    "\n",
    "    PARCELNO: unique identifier for each property. About 1% appear multiple times.\n",
    "    SALE_PRC: sale price ($)\n",
    "    LND_SQFOOT: land area (square feet)\n",
    "    TOT_LVG_AREA: floor area (square feet)\n",
    "    SPEC_FEAT_VAL: value of special features (e.g., swimming pools) ($)\n",
    "    RAIL_DIST: distance to the nearest rail line (an indicator of noise) (feet)\n",
    "    OCEAN_DIST: distance to the ocean (feet)\n",
    "    WATER_DIST: distance to the nearest body of water (feet)\n",
    "    CNTR_DIST: distance to the Miami central business district (feet)\n",
    "    SUBCNTR_DI: distance to the nearest subcenter (feet)\n",
    "    HWY_DIST: distance to the nearest highway (an indicator of noise) (feet)\n",
    "    age: age of the structure\n",
    "    avno60plus: dummy variable for airplane noise exceeding an acceptable level\n",
    "    structure_quality: quality of the structure\n",
    "    month_sold: sale month in 2016 (1 = jan)\n",
    "    LATITUDE\n",
    "    LONGITUDE\n"
   ]
  },
  {
   "cell_type": "code",
   "execution_count": null,
   "id": "d5676f23-925d-44f9-8aae-e0af6d6e41b2",
   "metadata": {},
   "outputs": [],
   "source": [
    "df.head()"
   ]
  },
  {
   "cell_type": "code",
   "execution_count": null,
   "id": "9d6831c6-14ba-4d40-919a-ca6084f0e89e",
   "metadata": {},
   "outputs": [],
   "source": [
    "df.info()"
   ]
  },
  {
   "cell_type": "code",
   "execution_count": null,
   "id": "e14c4fe9",
   "metadata": {},
   "outputs": [],
   "source": [
    "import seaborn as sns\n",
    "import matplotlib.pyplot as plt\n",
    "\n",
    "# Calculate the correlation matrix\n",
    "corr_matrix = df.corr()\n",
    "# Create a heatmap\n",
    "plt.figure(figsize=(12, 8))\n",
    "sns.heatmap(corr_matrix.round(2), annot=True, cmap='coolwarm')\n",
    "plt.title('Correlation Heatmap')\n",
    "plt.show();\n",
    "# Create a heatmap\n",
    "plt.figure(figsize=(12, 8))\n",
    "sns.heatmap(corr_matrix, annot=True, cmap='coolwarm')\n",
    "plt.title('Correlation Heatmap')\n",
    "plt.show();"
   ]
  },
  {
   "cell_type": "code",
   "execution_count": null,
   "id": "ba98b992",
   "metadata": {},
   "outputs": [],
   "source": [
    "# Splittin the data into features and target variables\n",
    "X = df.drop('SALE_PRC', axis=1)\n",
    "y = df['SALE_PRC']"
   ]
  },
  {
   "cell_type": "code",
   "execution_count": null,
   "id": "871f3500",
   "metadata": {},
   "outputs": [],
   "source": [
    "X.shape"
   ]
  },
  {
   "cell_type": "code",
   "execution_count": null,
   "id": "8ad569e8",
   "metadata": {},
   "outputs": [],
   "source": [
    "y.shape"
   ]
  },
  {
   "cell_type": "code",
   "execution_count": null,
   "id": "6b3a746f",
   "metadata": {},
   "outputs": [],
   "source": [
    "# Get all column names\n",
    "all_columns = df.columns.tolist()\n",
    "\n",
    "# List of all column names except SALE_PRC\n",
    "feature_names = [col for col in all_columns if col != 'SALE_PRC']\n",
    "\n",
    "# List containing only SALE_PRC\n",
    "target_name = ['SALE_PRC']"
   ]
  },
  {
   "cell_type": "code",
   "execution_count": null,
   "id": "4bded0c8",
   "metadata": {},
   "outputs": [],
   "source": [
    "X.head()"
   ]
  },
  {
   "cell_type": "code",
   "execution_count": null,
   "id": "8c95ba47",
   "metadata": {},
   "outputs": [],
   "source": [
    "# Check for null/missing values\n",
    "X.isnull().sum()"
   ]
  },
  {
   "cell_type": "markdown",
   "id": "35b54966",
   "metadata": {},
   "source": [
    "# ▶ Initial XGBoost Model"
   ]
  },
  {
   "cell_type": "code",
   "execution_count": null,
   "id": "d07705ca",
   "metadata": {},
   "outputs": [],
   "source": [
    "# Split the data into training and testing sets\n",
    "from sklearn.model_selection import train_test_split\n",
    "\n",
    "X_train, X_test, y_train, y_test = train_test_split(X, y, test_size=0.30, random_state=101)"
   ]
  },
  {
   "cell_type": "code",
   "execution_count": null,
   "id": "49c2991c",
   "metadata": {},
   "outputs": [],
   "source": [
    "import xgboost as xgb\n",
    "\n",
    "# Create the XGBoost regressor with initial parameters\n",
    "xg_reg = xgb.XGBRegressor(objective ='reg:squarederror', colsample_bytree = 0.3, learning_rate = 0.1,\n",
    "                max_depth = 5, alpha = 10, n_estimators = 10)"
   ]
  },
  {
   "cell_type": "code",
   "execution_count": null,
   "id": "40bf3c16",
   "metadata": {},
   "outputs": [],
   "source": [
    "xg_reg.fit(X_train, y_train)"
   ]
  },
  {
   "cell_type": "code",
   "execution_count": null,
   "id": "ce88be58",
   "metadata": {},
   "outputs": [],
   "source": [
    "from sklearn.metrics import mean_squared_error\n",
    "\n",
    "# Predicting\n",
    "preds = xg_reg.predict(X_test)\n",
    "\n",
    "# Evaluating\n",
    "mae = mean_absolute_error(y_test, preds)\n",
    "print(\"MAE for initial model: %f\" % (mae))"
   ]
  },
  {
   "cell_type": "markdown",
   "id": "2c80b93f",
   "metadata": {},
   "source": [
    "# ▶ GridSearchCV"
   ]
  },
  {
   "cell_type": "code",
   "execution_count": null,
   "id": "b942b578",
   "metadata": {},
   "outputs": [],
   "source": [
    "from sklearn.model_selection import GridSearchCV\n",
    "import xgboost as xgb\n",
    "\n",
    "# Define the parameter grid to search\n",
    "param_grid = {\n",
    "    'colsample_bytree': [0.3, 0.7],\n",
    "    'gamma': [0, 0.1, 0.2],\n",
    "    'learning_rate': [0.01, 0.1, 0.2],\n",
    "    'max_depth': [5, 7, 9],\n",
    "    'n_estimators': [50, 100, 200],\n",
    "    'alpha': [5, 10, 15]\n",
    "}\n",
    "\n",
    "# Create the XGBoost regressor\n",
    "xg_reg = xgb.XGBRegressor(objective='reg:squarederror')\n",
    "\n",
    "# Set up GridSearchCV\n",
    "grid_search = GridSearchCV(estimator=xg_reg, param_grid=param_grid, scoring='neg_mean_squared_error', cv=3, verbose=1)\n",
    "\n",
    "# Fit GridSearchCV to the training data\n",
    "grid_search.fit(X_train, y_train)\n",
    "\n",
    "# Print the best parameters found\n",
    "print(\"Best parameters found: \", grid_search.best_params_)\n",
    "\n",
    "# Use the best estimator to make predictions\n",
    "best_preds = grid_search.best_estimator_.predict(X_test)\n",
    "\n",
    "# Evaluate the best estimator\n",
    "mae_bestpreds = mean_absolute_error(y_test, best_preds)\n",
    "print(\"MAE for best estimator: %f\" % (mae_bestpreds))"
   ]
  },
  {
   "cell_type": "markdown",
   "id": "cb0038c4",
   "metadata": {},
   "source": [
    "# ▶ Improved XGBoost Model"
   ]
  },
  {
   "cell_type": "code",
   "execution_count": null,
   "id": "47b01c19",
   "metadata": {},
   "outputs": [],
   "source": [
    "# Create the XGBoost regressor with initial parameters\n",
    "xg_reg_improved = xgb.XGBRegressor(objective ='reg:squarederror', colsample_bytree = 0.7, learning_rate = 0.1,\n",
    "                max_depth = 5, alpha = 5, n_estimators = 200)"
   ]
  },
  {
   "cell_type": "code",
   "execution_count": null,
   "id": "d20b5aa3",
   "metadata": {},
   "outputs": [],
   "source": [
    "# Fitting data to improved model\n",
    "xg_reg_improved.fit(X_train, y_train)\n",
    "\n",
    "# Predicting\n",
    "preds_improved = xg_reg_improved.predict(X_test)\n",
    "\n",
    "# Evaluating\n",
    "mae_improved = mean_absolute_error(y_test, preds_improved)\n",
    "print(\"MAE for improved model: %f\" % (mae_improved))"
   ]
  },
  {
   "cell_type": "markdown",
   "id": "48f1ffdb",
   "metadata": {},
   "source": [
    "# ▶ Prediction vs Actual Values Visualization"
   ]
  },
  {
   "cell_type": "code",
   "execution_count": null,
   "id": "cb9cda4e",
   "metadata": {},
   "outputs": [],
   "source": [
    "print(len(y_test), len(preds), len(preds_improved))"
   ]
  },
  {
   "cell_type": "code",
   "execution_count": null,
   "id": "29e53efe",
   "metadata": {},
   "outputs": [],
   "source": [
    "# Plotting without limiting to a sample size, including all data\n",
    "plt.figure(figsize=(10, 6))\n",
    "plt.plot(y_test, label='Actual', color='blue', marker='o', linestyle='None', markersize=5)\n",
    "plt.plot(preds, label='Initial Predictions', color='red', linestyle='--')\n",
    "plt.plot(preds_improved, label='Improved Predictions', color='green', linestyle='-.')\n",
    "plt.title('Comparison of Actual vs. Predicted Values')\n",
    "plt.xlabel('Data Point Index')\n",
    "plt.ylabel('Target Variable')\n",
    "plt.legend()\n",
    "plt.show();\n"
   ]
  }
 ],
 "metadata": {
  "kernelspec": {
   "display_name": "base",
   "language": "python",
   "name": "python3"
  },
  "language_info": {
   "codemirror_mode": {
    "name": "ipython",
    "version": 3
   },
   "file_extension": ".py",
   "mimetype": "text/x-python",
   "name": "python",
   "nbconvert_exporter": "python",
   "pygments_lexer": "ipython3",
   "version": "3.12.4"
  }
 },
 "nbformat": 4,
 "nbformat_minor": 5
}
